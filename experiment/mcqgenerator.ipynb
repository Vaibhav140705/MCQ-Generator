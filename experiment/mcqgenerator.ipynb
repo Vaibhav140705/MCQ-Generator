{
 "cells": [
  {
   "cell_type": "code",
   "execution_count": 1,
   "id": "21720aaf",
   "metadata": {},
   "outputs": [],
   "source": [
    "import os"
   ]
  },
  {
   "cell_type": "code",
   "execution_count": 4,
   "id": "83411a53",
   "metadata": {},
   "outputs": [],
   "source": [
    "from langchain.llms import OpenAI                         # To call OpenAI API\n",
    "from langchain_groq import ChatGroq              # To call OpenAI Chat API\n",
    "from langchain.prompts import PromptTemplate              # To create prompt templates\n",
    "from langchain.chains import LLMChain                     # To create chains of calls to LLMs\n",
    "from langchain.chains import SequentialChain\n",
    "# from langchain.callbacks import get_openai_callback       # To track token usage\n",
    "import os\n",
    "import json\n",
    "import pandas as pd\n",
    "import traceback                                          # For error handling\n",
    "from dotenv import load_dotenv                            # For storing environment variables in local workspace\n",
    "import PyPDF2"
   ]
  },
  {
   "cell_type": "code",
   "execution_count": null,
   "id": "0ec5a9fd",
   "metadata": {},
   "outputs": [
    {
     "data": {
      "text/plain": [
       "True"
      ]
     },
     "execution_count": 5,
     "metadata": {},
     "output_type": "execute_result"
    }
   ],
   "source": [
    "load_dotenv()  # Load environment variables from .env file"
   ]
  },
  {
   "cell_type": "code",
   "execution_count": 6,
   "id": "4a9c987d",
   "metadata": {},
   "outputs": [],
   "source": [
    "key=os.getenv(\"GROQ_API_KEY\")"
   ]
  },
  {
   "cell_type": "code",
   "execution_count": 7,
   "id": "ae716358",
   "metadata": {},
   "outputs": [
    {
     "name": "stdout",
     "output_type": "stream",
     "text": [
      "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\n"
     ]
    }
   ],
   "source": [
    "print(key)"
   ]
  },
  {
   "cell_type": "code",
   "execution_count": 29,
   "id": "2f944fcf",
   "metadata": {},
   "outputs": [],
   "source": [
    "llm = ChatGroq(\n",
    "    groq_api_key=key,\n",
    "    model_name=\"llama-3.1-8b-instant\",   # or \"mixtral-8x7b-32768\"\n",
    "    temperature=0.7\n",
    ")\n"
   ]
  },
  {
   "cell_type": "code",
   "execution_count": 30,
   "id": "a82de49f",
   "metadata": {},
   "outputs": [
    {
     "data": {
      "text/plain": [
       "ChatGroq(client=<groq.resources.chat.completions.Completions object at 0x00000188544A7790>, async_client=<groq.resources.chat.completions.AsyncCompletions object at 0x00000188544A4650>, model_name='llama-3.1-8b-instant', model_kwargs={}, groq_api_key=SecretStr('**********'))"
      ]
     },
     "execution_count": 30,
     "metadata": {},
     "output_type": "execute_result"
    }
   ],
   "source": [
    "llm    # Initialize the LLM with your OpenAI API key"
   ]
  },
  {
   "cell_type": "code",
   "execution_count": 31,
   "id": "b368ec06",
   "metadata": {},
   "outputs": [],
   "source": [
    "with open(\"Response.json\",\"r\") as f:\n",
    "    RESPONSE_JSON=json.load(f)"
   ]
  },
  {
   "cell_type": "code",
   "execution_count": 32,
   "id": "6f3a7178",
   "metadata": {},
   "outputs": [
    {
     "name": "stdout",
     "output_type": "stream",
     "text": [
      "{'1': {'no': '1', 'mcq': 'multiple choice questions', 'options': {'a': 'choice here', 'b': 'choice here', 'c': 'choice here', 'd': 'choice here'}, 'correct': 'correct answer'}, '2': {'no': '2', 'mcq': 'multiple choice questions', 'options': {'a': 'choice here', 'b': 'choice here', 'c': 'choice here', 'd': 'choice here'}, 'correct': 'correct answer'}, '3': {'no': '3', 'mcq': 'multiple choice questions', 'options': {'a': 'choice here', 'b': 'choice here', 'c': 'choice here', 'd': 'choice here'}, 'correct': 'correct answer'}}\n"
     ]
    }
   ],
   "source": [
    "print(RESPONSE_JSON)"
   ]
  },
  {
   "cell_type": "code",
   "execution_count": 63,
   "id": "b952a978",
   "metadata": {},
   "outputs": [],
   "source": [
    "# TEMPLATE=\"\"\"\n",
    "# Text:{text}\n",
    "# You are an expert MCQ maker. Given the above text, it is your job to \\\n",
    "# create a quiz  of {number} multiple choice questions for {subject} students in {tone} tone. \n",
    "# Make sure the questions are not repeated and check all the questions to be conforming the text as well.\n",
    "# Make sure to format your response like  RESPONSE_JSON below  and use it as a guide. \\\n",
    "# Ensure to make {number} MCQs\n",
    "# ### RESPONSE_JSON\n",
    "# {RESPONSE_JSON}\n",
    "\n",
    "# \"\"\"\n",
    "\n",
    "TEMPLATE = \"\"\"\n",
    "Text: {text}\n",
    "\n",
    "You are an expert MCQ maker. \n",
    "Create exactly {number} multiple choice questions for {subject} students in {tone} tone. \n",
    "\n",
    "⚠️ Rules:\n",
    "- Output MUST be valid JSON.\n",
    "- Follow the structure in RESPONSE_JSON exactly.\n",
    "- Do not add Python-style dicts, only JSON (keys/strings in double quotes).\n",
    "- Ensure all {number} questions are unique and relevant to the text.\n",
    "\n",
    "### RESPONSE_JSON (example format)\n",
    "{RESPONSE_JSON}\n",
    "\"\"\""
   ]
  },
  {
   "cell_type": "code",
   "execution_count": 64,
   "id": "c6cadae1",
   "metadata": {},
   "outputs": [],
   "source": [
    "quiz_generation_prompt=PromptTemplate(\n",
    "    input_variables=[\"text\",\"number\",\"subject\",\"tone\",\"RESPONSE_JSON\"],\n",
    "    template=TEMPLATE\n",
    ")"
   ]
  },
  {
   "cell_type": "code",
   "execution_count": 65,
   "id": "7e80d4ca",
   "metadata": {},
   "outputs": [],
   "source": [
    "quiz_chain=LLMChain(llm=llm, prompt=quiz_generation_prompt, output_key=\"quiz\",verbose=True)"
   ]
  },
  {
   "cell_type": "code",
   "execution_count": 66,
   "id": "39bba0d6",
   "metadata": {},
   "outputs": [],
   "source": [
    "# TEMPLATE2=\"\"\"\n",
    "# You are an expert english grammarian and writer. Given a Multiple Choice Quiz for {subject} students.\\\n",
    "# You need to evaluate the complexity of the question and give a complete analysis of the quiz. Only use at max 50 words for complexity analysis. \n",
    "# if the quiz is not at per with the cognitive and analytical abilities of the students,\\\n",
    "# update the quiz questions which needs to be changed and change the tone such that it perfectly fits the student abilities\n",
    "# Quiz_MCQs:\n",
    "# {quiz}\n",
    "\n",
    "# Check from an expert English Writer of the above quiz:\n",
    "# \"\"\"\n",
    "\n",
    "TEMPLATE2 = \"\"\"\n",
    "You are an expert English grammarian and writer. \n",
    "Given a Multiple Choice Quiz for {subject} students:\n",
    "\n",
    "1. Evaluate the complexity of the quiz in **no more than 50 words**. \n",
    "2. If the quiz is not appropriate for the students’ cognitive and analytical abilities:\n",
    "   - Revise only the necessary questions.\n",
    "   - Keep the tone simple and suitable for the students.\n",
    "3. Always return the final output in **valid JSON format**, following the structure below:\n",
    "\n",
    "{RESPONSE_JSON}\n",
    "\n",
    "Quiz_MCQs:\n",
    "{quiz}\n",
    "\n",
    "### Final Output (JSON only):\n",
    "\"\"\"\n"
   ]
  },
  {
   "cell_type": "code",
   "execution_count": 67,
   "id": "3c922d06",
   "metadata": {},
   "outputs": [],
   "source": [
    "quiz_evaluation_prompt=PromptTemplate(\n",
    "    input_variables=[\"text\",\"number\",\"subject\",\"tone\",\"RESPONSE_JSON\"],\n",
    "    template=TEMPLATE2\n",
    ")"
   ]
  },
  {
   "cell_type": "code",
   "execution_count": 68,
   "id": "59e190b6",
   "metadata": {},
   "outputs": [],
   "source": [
    "review_chain=LLMChain(llm=llm, prompt=quiz_evaluation_prompt, output_key=\"review\",verbose=True)"
   ]
  },
  {
   "cell_type": "code",
   "execution_count": 69,
   "id": "427dfaaf",
   "metadata": {},
   "outputs": [],
   "source": [
    "generate_evaluate_chain = SequentialChain(\n",
    "\tchains=[quiz_chain, review_chain],\n",
    "\tinput_variables=[\"text\", \"number\", \"subject\", \"tone\", \"RESPONSE_JSON\"],\n",
    "\toutput_variables=[\"quiz\", \"review\"],\n",
    "\tverbose=True\n",
    ")"
   ]
  },
  {
   "cell_type": "code",
   "execution_count": 70,
   "id": "f492d9fc",
   "metadata": {},
   "outputs": [],
   "source": [
    "PATH=\"data.txt\""
   ]
  },
  {
   "cell_type": "code",
   "execution_count": 71,
   "id": "2b31deca",
   "metadata": {},
   "outputs": [],
   "source": [
    "with open(PATH, \"r\") as file:\n",
    "    TEXT=file.read()"
   ]
  },
  {
   "cell_type": "code",
   "execution_count": 72,
   "id": "09e15477",
   "metadata": {},
   "outputs": [
    {
     "name": "stdout",
     "output_type": "stream",
     "text": [
      "Generative artificial intelligence (Generative AI, GenAI,[1] or GAI) is a subfield of artificial intelligence that uses generative models to produce text, images, videos, or other forms of data.[2][3][4] These models learn the underlying patterns and structures of their training data and use them to produce new data[5][6] based on the input, which often comes in the form of natural language prompts. Generative AI tools have become more common since the AI boom in the 2020s. This boom was made possible by improvements in transformer-based deep neural networks, particularly large language models (LLMs).\n"
     ]
    }
   ],
   "source": [
    "print(TEXT)"
   ]
  },
  {
   "cell_type": "code",
   "execution_count": 74,
   "id": "c4be8f09",
   "metadata": {},
   "outputs": [
    {
     "data": {
      "text/plain": [
       "SequentialChain(verbose=True, chains=[LLMChain(verbose=True, prompt=PromptTemplate(input_variables=['RESPONSE_JSON', 'number', 'subject', 'text', 'tone'], input_types={}, partial_variables={}, template='\\nText: {text}\\n\\nYou are an expert MCQ maker. \\nCreate exactly {number} multiple choice questions for {subject} students in {tone} tone. \\n\\n⚠️ Rules:\\n- Output MUST be valid JSON.\\n- Follow the structure in RESPONSE_JSON exactly.\\n- Do not add Python-style dicts, only JSON (keys/strings in double quotes).\\n- Ensure all {number} questions are unique and relevant to the text.\\n\\n### RESPONSE_JSON (example format)\\n{RESPONSE_JSON}\\n'), llm=ChatGroq(client=<groq.resources.chat.completions.Completions object at 0x00000188544A7790>, async_client=<groq.resources.chat.completions.AsyncCompletions object at 0x00000188544A4650>, model_name='llama-3.1-8b-instant', model_kwargs={}, groq_api_key=SecretStr('**********')), output_key='quiz', output_parser=StrOutputParser(), llm_kwargs={}), LLMChain(verbose=True, prompt=PromptTemplate(input_variables=['RESPONSE_JSON', 'quiz', 'subject'], input_types={}, partial_variables={}, template='\\nYou are an expert English grammarian and writer. \\nGiven a Multiple Choice Quiz for {subject} students:\\n\\n1. Evaluate the complexity of the quiz in **no more than 50 words**. \\n2. If the quiz is not appropriate for the students’ cognitive and analytical abilities:\\n   - Revise only the necessary questions.\\n   - Keep the tone simple and suitable for the students.\\n3. Always return the final output in **valid JSON format**, following the structure below:\\n\\n{RESPONSE_JSON}\\n\\nQuiz_MCQs:\\n{quiz}\\n\\n### Final Output (JSON only):\\n'), llm=ChatGroq(client=<groq.resources.chat.completions.Completions object at 0x00000188544A7790>, async_client=<groq.resources.chat.completions.AsyncCompletions object at 0x00000188544A4650>, model_name='llama-3.1-8b-instant', model_kwargs={}, groq_api_key=SecretStr('**********')), output_key='review', output_parser=StrOutputParser(), llm_kwargs={})], input_variables=['text', 'number', 'subject', 'tone', 'RESPONSE_JSON'], output_variables=['quiz', 'review'])"
      ]
     },
     "execution_count": 74,
     "metadata": {},
     "output_type": "execute_result"
    }
   ],
   "source": [
    "generate_evaluate_chain"
   ]
  },
  {
   "cell_type": "code",
   "execution_count": 75,
   "id": "b042d8f7",
   "metadata": {},
   "outputs": [],
   "source": [
    "TEXT\n",
    "NUMBER=5\n",
    "SUBJECT='GENAI'\n",
    "TONE='SIMPLE'\n",
    "RESPONSE_JSON=RESPONSE_JSON"
   ]
  },
  {
   "cell_type": "code",
   "execution_count": 76,
   "id": "aea4de1d",
   "metadata": {},
   "outputs": [
    {
     "data": {
      "text/plain": [
       "{'1': {'no': '1',\n",
       "  'mcq': 'multiple choice questions',\n",
       "  'options': {'a': 'choice here',\n",
       "   'b': 'choice here',\n",
       "   'c': 'choice here',\n",
       "   'd': 'choice here'},\n",
       "  'correct': 'correct answer'},\n",
       " '2': {'no': '2',\n",
       "  'mcq': 'multiple choice questions',\n",
       "  'options': {'a': 'choice here',\n",
       "   'b': 'choice here',\n",
       "   'c': 'choice here',\n",
       "   'd': 'choice here'},\n",
       "  'correct': 'correct answer'},\n",
       " '3': {'no': '3',\n",
       "  'mcq': 'multiple choice questions',\n",
       "  'options': {'a': 'choice here',\n",
       "   'b': 'choice here',\n",
       "   'c': 'choice here',\n",
       "   'd': 'choice here'},\n",
       "  'correct': 'correct answer'}}"
      ]
     },
     "execution_count": 76,
     "metadata": {},
     "output_type": "execute_result"
    }
   ],
   "source": [
    "RESPONSE_JSON"
   ]
  },
  {
   "cell_type": "code",
   "execution_count": 77,
   "id": "50e4c2b5",
   "metadata": {},
   "outputs": [
    {
     "data": {
      "text/plain": [
       "'{\"1\": {\"no\": \"1\", \"mcq\": \"multiple choice questions\", \"options\": {\"a\": \"choice here\", \"b\": \"choice here\", \"c\": \"choice here\", \"d\": \"choice here\"}, \"correct\": \"correct answer\"}, \"2\": {\"no\": \"2\", \"mcq\": \"multiple choice questions\", \"options\": {\"a\": \"choice here\", \"b\": \"choice here\", \"c\": \"choice here\", \"d\": \"choice here\"}, \"correct\": \"correct answer\"}, \"3\": {\"no\": \"3\", \"mcq\": \"multiple choice questions\", \"options\": {\"a\": \"choice here\", \"b\": \"choice here\", \"c\": \"choice here\", \"d\": \"choice here\"}, \"correct\": \"correct answer\"}}'"
      ]
     },
     "execution_count": 77,
     "metadata": {},
     "output_type": "execute_result"
    }
   ],
   "source": [
    "json.dumps(RESPONSE_JSON)     # To convert Python dictionary to JSON string"
   ]
  },
  {
   "cell_type": "code",
   "execution_count": 78,
   "id": "5e70a68e",
   "metadata": {},
   "outputs": [
    {
     "name": "stdout",
     "output_type": "stream",
     "text": [
      "\n",
      "\n",
      "\u001b[1m> Entering new SequentialChain chain...\u001b[0m\n",
      "\n",
      "\n",
      "\u001b[1m> Entering new LLMChain chain...\u001b[0m\n",
      "Prompt after formatting:\n",
      "\u001b[32;1m\u001b[1;3m\n",
      "Text: Generative artificial intelligence (Generative AI, GenAI,[1] or GAI) is a subfield of artificial intelligence that uses generative models to produce text, images, videos, or other forms of data.[2][3][4] These models learn the underlying patterns and structures of their training data and use them to produce new data[5][6] based on the input, which often comes in the form of natural language prompts. Generative AI tools have become more common since the AI boom in the 2020s. This boom was made possible by improvements in transformer-based deep neural networks, particularly large language models (LLMs).\n",
      "\n",
      "You are an expert MCQ maker. \n",
      "Create exactly 5 multiple choice questions for GENAI students in SIMPLE tone. \n",
      "\n",
      "⚠️ Rules:\n",
      "- Output MUST be valid JSON.\n",
      "- Follow the structure in RESPONSE_JSON exactly.\n",
      "- Do not add Python-style dicts, only JSON (keys/strings in double quotes).\n",
      "- Ensure all 5 questions are unique and relevant to the text.\n",
      "\n",
      "### RESPONSE_JSON (example format)\n",
      "{\n",
      "  \"1\": {\n",
      "    \"no\": \"1\",\n",
      "    \"mcq\": \"multiple choice questions\",\n",
      "    \"options\": {\n",
      "      \"a\": \"choice here\",\n",
      "      \"b\": \"choice here\",\n",
      "      \"c\": \"choice here\",\n",
      "      \"d\": \"choice here\"\n",
      "    },\n",
      "    \"correct\": \"correct answer\"\n",
      "  },\n",
      "  \"2\": {\n",
      "    \"no\": \"2\",\n",
      "    \"mcq\": \"multiple choice questions\",\n",
      "    \"options\": {\n",
      "      \"a\": \"choice here\",\n",
      "      \"b\": \"choice here\",\n",
      "      \"c\": \"choice here\",\n",
      "      \"d\": \"choice here\"\n",
      "    },\n",
      "    \"correct\": \"correct answer\"\n",
      "  },\n",
      "  \"3\": {\n",
      "    \"no\": \"3\",\n",
      "    \"mcq\": \"multiple choice questions\",\n",
      "    \"options\": {\n",
      "      \"a\": \"choice here\",\n",
      "      \"b\": \"choice here\",\n",
      "      \"c\": \"choice here\",\n",
      "      \"d\": \"choice here\"\n",
      "    },\n",
      "    \"correct\": \"correct answer\"\n",
      "  }\n",
      "}\n",
      "\u001b[0m\n",
      "\n",
      "\u001b[1m> Finished chain.\u001b[0m\n",
      "\n",
      "\n",
      "\u001b[1m> Entering new LLMChain chain...\u001b[0m\n",
      "Prompt after formatting:\n",
      "\u001b[32;1m\u001b[1;3m\n",
      "You are an expert English grammarian and writer. \n",
      "Given a Multiple Choice Quiz for GENAI students:\n",
      "\n",
      "1. Evaluate the complexity of the quiz in **no more than 50 words**. \n",
      "2. If the quiz is not appropriate for the students’ cognitive and analytical abilities:\n",
      "   - Revise only the necessary questions.\n",
      "   - Keep the tone simple and suitable for the students.\n",
      "3. Always return the final output in **valid JSON format**, following the structure below:\n",
      "\n",
      "{\n",
      "  \"1\": {\n",
      "    \"no\": \"1\",\n",
      "    \"mcq\": \"multiple choice questions\",\n",
      "    \"options\": {\n",
      "      \"a\": \"choice here\",\n",
      "      \"b\": \"choice here\",\n",
      "      \"c\": \"choice here\",\n",
      "      \"d\": \"choice here\"\n",
      "    },\n",
      "    \"correct\": \"correct answer\"\n",
      "  },\n",
      "  \"2\": {\n",
      "    \"no\": \"2\",\n",
      "    \"mcq\": \"multiple choice questions\",\n",
      "    \"options\": {\n",
      "      \"a\": \"choice here\",\n",
      "      \"b\": \"choice here\",\n",
      "      \"c\": \"choice here\",\n",
      "      \"d\": \"choice here\"\n",
      "    },\n",
      "    \"correct\": \"correct answer\"\n",
      "  },\n",
      "  \"3\": {\n",
      "    \"no\": \"3\",\n",
      "    \"mcq\": \"multiple choice questions\",\n",
      "    \"options\": {\n",
      "      \"a\": \"choice here\",\n",
      "      \"b\": \"choice here\",\n",
      "      \"c\": \"choice here\",\n",
      "      \"d\": \"choice here\"\n",
      "    },\n",
      "    \"correct\": \"correct answer\"\n",
      "  }\n",
      "}\n",
      "\n",
      "Quiz_MCQs:\n",
      "{\n",
      "  \"1\": {\n",
      "    \"no\": \"1\",\n",
      "    \"mcq\": \"What is Generative AI used for?\",\n",
      "    \"options\": {\n",
      "      \"a\": \"Data analysis and interpretation\",\n",
      "      \"b\": \"Production of text, images, videos, or other forms of data\",\n",
      "      \"c\": \"Deep learning model training\",\n",
      "      \"d\": \"Natural Language Processing\"\n",
      "    },\n",
      "    \"correct\": \"b\"\n",
      "  },\n",
      "  \"2\": {\n",
      "    \"no\": \"2\",\n",
      "    \"mcq\": \"What technology made the AI boom in the 2020s possible?\",\n",
      "    \"options\": {\n",
      "      \"a\": \"Improvements in deep neural networks\",\n",
      "      \"b\": \"Large language models (LLMs)\",\n",
      "      \"c\": \"Both a and b\",\n",
      "      \"d\": \"Neither a nor b\"\n",
      "    },\n",
      "    \"correct\": \"c\"\n",
      "  },\n",
      "  \"3\": {\n",
      "    \"no\": \"3\",\n",
      "    \"mcq\": \"What form does the input often come in for Generative AI?\",\n",
      "    \"options\": {\n",
      "      \"a\": \"Structured data\",\n",
      "      \"b\": \"Unstructured data\",\n",
      "      \"c\": \"Natural language prompts\",\n",
      "      \"d\": \"Raw data\"\n",
      "    },\n",
      "    \"correct\": \"c\"\n",
      "  },\n",
      "  \"4\": {\n",
      "    \"no\": \"4\",\n",
      "    \"mcq\": \"What do Generative AI models learn from their training data?\",\n",
      "    \"options\": {\n",
      "      \"a\": \"Patterns and structures\",\n",
      "      \"b\": \"Random noise\",\n",
      "      \"c\": \"Irrelevant data\",\n",
      "      \"d\": \"Only images\"\n",
      "    },\n",
      "    \"correct\": \"a\"\n",
      "  },\n",
      "  \"5\": {\n",
      "    \"no\": \"5\",\n",
      "    \"mcq\": \"When did Generative AI tools become more common?\",\n",
      "    \"options\": {\n",
      "      \"a\": \"2010s\",\n",
      "      \"b\": \"2020s\",\n",
      "      \"c\": \"Both a and b\",\n",
      "      \"d\": \"Neither a nor b\"\n",
      "    },\n",
      "    \"correct\": \"b\"\n",
      "  }\n",
      "}\n",
      "\n",
      "### Final Output (JSON only):\n",
      "\u001b[0m\n",
      "\n",
      "\u001b[1m> Finished chain.\u001b[0m\n",
      "\n",
      "\u001b[1m> Finished chain.\u001b[0m\n"
     ]
    }
   ],
   "source": [
    "response=generate_evaluate_chain(\n",
    "    {\n",
    "\n",
    "    \"text\":TEXT,\n",
    "    \"number\": NUMBER,\n",
    "    \"subject\": SUBJECT,\n",
    "    \"tone\": TONE,\n",
    "    \"RESPONSE_JSON\":json.dumps(RESPONSE_JSON, indent=2)\n",
    "    }\n",
    ")"
   ]
  },
  {
   "cell_type": "code",
   "execution_count": 79,
   "id": "bf5b04be",
   "metadata": {},
   "outputs": [
    {
     "data": {
      "text/plain": [
       "{'text': 'Generative artificial intelligence (Generative AI, GenAI,[1] or GAI) is a subfield of artificial intelligence that uses generative models to produce text, images, videos, or other forms of data.[2][3][4] These models learn the underlying patterns and structures of their training data and use them to produce new data[5][6] based on the input, which often comes in the form of natural language prompts. Generative AI tools have become more common since the AI boom in the 2020s. This boom was made possible by improvements in transformer-based deep neural networks, particularly large language models (LLMs).',\n",
       " 'number': 5,\n",
       " 'subject': 'GENAI',\n",
       " 'tone': 'SIMPLE',\n",
       " 'RESPONSE_JSON': '{\\n  \"1\": {\\n    \"no\": \"1\",\\n    \"mcq\": \"multiple choice questions\",\\n    \"options\": {\\n      \"a\": \"choice here\",\\n      \"b\": \"choice here\",\\n      \"c\": \"choice here\",\\n      \"d\": \"choice here\"\\n    },\\n    \"correct\": \"correct answer\"\\n  },\\n  \"2\": {\\n    \"no\": \"2\",\\n    \"mcq\": \"multiple choice questions\",\\n    \"options\": {\\n      \"a\": \"choice here\",\\n      \"b\": \"choice here\",\\n      \"c\": \"choice here\",\\n      \"d\": \"choice here\"\\n    },\\n    \"correct\": \"correct answer\"\\n  },\\n  \"3\": {\\n    \"no\": \"3\",\\n    \"mcq\": \"multiple choice questions\",\\n    \"options\": {\\n      \"a\": \"choice here\",\\n      \"b\": \"choice here\",\\n      \"c\": \"choice here\",\\n      \"d\": \"choice here\"\\n    },\\n    \"correct\": \"correct answer\"\\n  }\\n}',\n",
       " 'quiz': '{\\n  \"1\": {\\n    \"no\": \"1\",\\n    \"mcq\": \"What is Generative AI used for?\",\\n    \"options\": {\\n      \"a\": \"Data analysis and interpretation\",\\n      \"b\": \"Production of text, images, videos, or other forms of data\",\\n      \"c\": \"Deep learning model training\",\\n      \"d\": \"Natural Language Processing\"\\n    },\\n    \"correct\": \"b\"\\n  },\\n  \"2\": {\\n    \"no\": \"2\",\\n    \"mcq\": \"What technology made the AI boom in the 2020s possible?\",\\n    \"options\": {\\n      \"a\": \"Improvements in deep neural networks\",\\n      \"b\": \"Large language models (LLMs)\",\\n      \"c\": \"Both a and b\",\\n      \"d\": \"Neither a nor b\"\\n    },\\n    \"correct\": \"c\"\\n  },\\n  \"3\": {\\n    \"no\": \"3\",\\n    \"mcq\": \"What form does the input often come in for Generative AI?\",\\n    \"options\": {\\n      \"a\": \"Structured data\",\\n      \"b\": \"Unstructured data\",\\n      \"c\": \"Natural language prompts\",\\n      \"d\": \"Raw data\"\\n    },\\n    \"correct\": \"c\"\\n  },\\n  \"4\": {\\n    \"no\": \"4\",\\n    \"mcq\": \"What do Generative AI models learn from their training data?\",\\n    \"options\": {\\n      \"a\": \"Patterns and structures\",\\n      \"b\": \"Random noise\",\\n      \"c\": \"Irrelevant data\",\\n      \"d\": \"Only images\"\\n    },\\n    \"correct\": \"a\"\\n  },\\n  \"5\": {\\n    \"no\": \"5\",\\n    \"mcq\": \"When did Generative AI tools become more common?\",\\n    \"options\": {\\n      \"a\": \"2010s\",\\n      \"b\": \"2020s\",\\n      \"c\": \"Both a and b\",\\n      \"d\": \"Neither a nor b\"\\n    },\\n    \"correct\": \"b\"\\n  }\\n}',\n",
       " 'review': '## Complexity Evaluation\\n\\nThe complexity of the quiz is medium to high, requiring a good understanding of Generative AI concepts and terminology. The questions cover various aspects of Generative AI, including its applications, enabling technologies, input formats, and learning processes. However, some questions may be challenging for students who are new to the subject.\\n\\n## Revised Quiz\\n\\nAfter evaluating the quiz, I noticed that question 2 may be too complex for GENAI students, as it requires an understanding of the relationship between deep neural networks and Large Language Models (LLMs). To revise the quiz, I will rephrase question 2 and provide a more detailed explanation for students.\\n\\nHere is the revised quiz in valid JSON format:\\n\\n```json\\n{\\n  \"1\": {\\n    \"no\": \"1\",\\n    \"mcq\": \"What is Generative AI used for?\",\\n    \"options\": {\\n      \"a\": \"Data analysis and interpretation\",\\n      \"b\": \"Production of text, images, videos, or other forms of data\",\\n      \"c\": \"Deep learning model training\",\\n      \"d\": \"Natural Language Processing\"\\n    },\\n    \"correct\": \"b\"\\n  },\\n  \"2\": {\\n    \"no\": \"2\",\\n    \"mcq\": \"What is a key characteristic of Generative AI models?\",\\n    \"options\": {\\n      \"a\": \"They can only process structured data\",\\n      \"b\": \"They can only analyze data\",\\n      \"c\": \"They can produce new, original content\",\\n      \"d\": \"They can only work with images\"\\n    },\\n    \"correct\": \"c\"\\n  },\\n  \"3\": {\\n    \"no\": \"3\",\\n    \"mcq\": \"What form does the input often come in for Generative AI?\",\\n    \"options\": {\\n      \"a\": \"Structured data\",\\n      \"b\": \"Unstructured data\",\\n      \"c\": \"Natural language prompts\",\\n      \"d\": \"Raw data\"\\n    },\\n    \"correct\": \"c\"\\n  },\\n  \"4\": {\\n    \"no\": \"4\",\\n    \"mcq\": \"What do Generative AI models learn from their training data?\",\\n    \"options\": {\\n      \"a\": \"Patterns and structures\",\\n      \"b\": \"Random noise\",\\n      \"c\": \"Irrelevant data\",\\n      \"d\": \"Only images\"\\n    },\\n    \"correct\": \"a\"\\n  },\\n  \"5\": {\\n    \"no\": \"5\",\\n    \"mcq\": \"When did Generative AI tools become more common?\",\\n    \"options\": {\\n      \"a\": \"2010s\",\\n      \"b\": \"2020s\",\\n      \"c\": \"Both a and b\",\\n      \"d\": \"Neither a nor b\"\\n    },\\n    \"correct\": \"b\"\\n  }\\n}\\n```\\n\\nThe revised question 2 is now more focused on a key characteristic of Generative AI models, making it more accessible to GENAI students.'}"
      ]
     },
     "execution_count": 79,
     "metadata": {},
     "output_type": "execute_result"
    }
   ],
   "source": [
    "response"
   ]
  },
  {
   "cell_type": "code",
   "execution_count": 80,
   "id": "c685b163",
   "metadata": {},
   "outputs": [],
   "source": [
    "quiz=response.get(\"quiz\")"
   ]
  },
  {
   "cell_type": "code",
   "execution_count": 81,
   "id": "7507c202",
   "metadata": {},
   "outputs": [],
   "source": [
    "quiz=json.loads(quiz)"
   ]
  },
  {
   "cell_type": "code",
   "execution_count": 82,
   "id": "ea48db07",
   "metadata": {},
   "outputs": [
    {
     "data": {
      "text/plain": [
       "{'1': {'no': '1',\n",
       "  'mcq': 'What is Generative AI used for?',\n",
       "  'options': {'a': 'Data analysis and interpretation',\n",
       "   'b': 'Production of text, images, videos, or other forms of data',\n",
       "   'c': 'Deep learning model training',\n",
       "   'd': 'Natural Language Processing'},\n",
       "  'correct': 'b'},\n",
       " '2': {'no': '2',\n",
       "  'mcq': 'What technology made the AI boom in the 2020s possible?',\n",
       "  'options': {'a': 'Improvements in deep neural networks',\n",
       "   'b': 'Large language models (LLMs)',\n",
       "   'c': 'Both a and b',\n",
       "   'd': 'Neither a nor b'},\n",
       "  'correct': 'c'},\n",
       " '3': {'no': '3',\n",
       "  'mcq': 'What form does the input often come in for Generative AI?',\n",
       "  'options': {'a': 'Structured data',\n",
       "   'b': 'Unstructured data',\n",
       "   'c': 'Natural language prompts',\n",
       "   'd': 'Raw data'},\n",
       "  'correct': 'c'},\n",
       " '4': {'no': '4',\n",
       "  'mcq': 'What do Generative AI models learn from their training data?',\n",
       "  'options': {'a': 'Patterns and structures',\n",
       "   'b': 'Random noise',\n",
       "   'c': 'Irrelevant data',\n",
       "   'd': 'Only images'},\n",
       "  'correct': 'a'},\n",
       " '5': {'no': '5',\n",
       "  'mcq': 'When did Generative AI tools become more common?',\n",
       "  'options': {'a': '2010s',\n",
       "   'b': '2020s',\n",
       "   'c': 'Both a and b',\n",
       "   'd': 'Neither a nor b'},\n",
       "  'correct': 'b'}}"
      ]
     },
     "execution_count": 82,
     "metadata": {},
     "output_type": "execute_result"
    }
   ],
   "source": [
    "quiz\n"
   ]
  },
  {
   "cell_type": "code",
   "execution_count": 88,
   "id": "2afc0675",
   "metadata": {},
   "outputs": [],
   "source": [
    "quiz_table_data = []\n",
    "for key, value in quiz.items():\n",
    "    mcq = value[\"mcq\"]\n",
    "    options = \" | \".join(\n",
    "        [\n",
    "            f\"{option}: {option_value}\"\n",
    "            for option, option_value in value[\"options\"].items()\n",
    "            ]\n",
    "        )\n",
    "    correct = value[\"correct\"]\n",
    "    quiz_table_data.append({\"MCQ\": mcq, \"Choices\": options, \"Correct\": correct})"
   ]
  },
  {
   "cell_type": "code",
   "execution_count": 89,
   "id": "66a34bc4",
   "metadata": {},
   "outputs": [
    {
     "data": {
      "text/plain": [
       "[{'MCQ': 'What is Generative AI used for?',\n",
       "  'Choices': 'a: Data analysis and interpretation | b: Production of text, images, videos, or other forms of data | c: Deep learning model training | d: Natural Language Processing',\n",
       "  'Correct': 'b'},\n",
       " {'MCQ': 'What technology made the AI boom in the 2020s possible?',\n",
       "  'Choices': 'a: Improvements in deep neural networks | b: Large language models (LLMs) | c: Both a and b | d: Neither a nor b',\n",
       "  'Correct': 'c'},\n",
       " {'MCQ': 'What form does the input often come in for Generative AI?',\n",
       "  'Choices': 'a: Structured data | b: Unstructured data | c: Natural language prompts | d: Raw data',\n",
       "  'Correct': 'c'},\n",
       " {'MCQ': 'What do Generative AI models learn from their training data?',\n",
       "  'Choices': 'a: Patterns and structures | b: Random noise | c: Irrelevant data | d: Only images',\n",
       "  'Correct': 'a'},\n",
       " {'MCQ': 'When did Generative AI tools become more common?',\n",
       "  'Choices': 'a: 2010s | b: 2020s | c: Both a and b | d: Neither a nor b',\n",
       "  'Correct': 'b'}]"
      ]
     },
     "execution_count": 89,
     "metadata": {},
     "output_type": "execute_result"
    }
   ],
   "source": [
    "quiz_table_data"
   ]
  },
  {
   "cell_type": "code",
   "execution_count": 90,
   "id": "27b7839a",
   "metadata": {},
   "outputs": [],
   "source": [
    "quiz=pd.DataFrame(quiz_table_data)"
   ]
  },
  {
   "cell_type": "code",
   "execution_count": 91,
   "id": "1c683a54",
   "metadata": {},
   "outputs": [],
   "source": [
    "quiz.to_csv(\"genai.csv\", index=False)"
   ]
  },
  {
   "cell_type": "code",
   "execution_count": null,
   "id": "46bb14ee",
   "metadata": {},
   "outputs": [],
   "source": [
    "\n"
   ]
  },
  {
   "cell_type": "code",
   "execution_count": null,
   "id": "e960f446",
   "metadata": {},
   "outputs": [],
   "source": []
  },
  {
   "cell_type": "code",
   "execution_count": null,
   "id": "4fab5ec0",
   "metadata": {},
   "outputs": [],
   "source": []
  },
  {
   "cell_type": "code",
   "execution_count": null,
   "id": "d896aa8f",
   "metadata": {},
   "outputs": [],
   "source": []
  },
  {
   "cell_type": "code",
   "execution_count": null,
   "metadata": {},
   "outputs": [],
   "source": []
  },
  {
   "cell_type": "code",
   "execution_count": null,
   "id": "e9af5269",
   "metadata": {},
   "outputs": [],
   "source": []
  },
  {
   "cell_type": "code",
   "execution_count": null,
   "id": "78415496",
   "metadata": {},
   "outputs": [],
   "source": []
  },
  {
   "cell_type": "code",
   "execution_count": null,
   "id": "48147899",
   "metadata": {},
   "outputs": [],
   "source": []
  },
  {
   "cell_type": "code",
   "execution_count": null,
   "id": "30f7b3e5",
   "metadata": {},
   "outputs": [],
   "source": []
  },
  {
   "cell_type": "code",
   "execution_count": null,
   "id": "141a46b2",
   "metadata": {},
   "outputs": [],
   "source": []
  },
  {
   "cell_type": "code",
   "execution_count": null,
   "id": "d4f9e02b",
   "metadata": {},
   "outputs": [],
   "source": []
  },
  {
   "cell_type": "code",
   "execution_count": null,
   "id": "3f9b2bbd",
   "metadata": {},
   "outputs": [],
   "source": []
  }
 ],
 "metadata": {
  "kernelspec": {
   "display_name": "Python 3",
   "language": "python",
   "name": "python3"
  },
  "language_info": {
   "codemirror_mode": {
    "name": "ipython",
    "version": 3
   },
   "file_extension": ".py",
   "mimetype": "text/x-python",
   "name": "python",
   "nbconvert_exporter": "python",
   "pygments_lexer": "ipython3",
   "version": "3.11.5"
  }
 },
 "nbformat": 4,
 "nbformat_minor": 5
}
